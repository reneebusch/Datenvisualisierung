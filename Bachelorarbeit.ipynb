{
 "cells": [
  {
   "cell_type": "code",
   "execution_count": null,
   "metadata": {
    "scrolled": true
   },
   "outputs": [],
   "source": [
    "pip install numpy"
   ]
  },
  {
   "cell_type": "code",
   "execution_count": null,
   "metadata": {},
   "outputs": [],
   "source": [
    "pip install Pillow\n"
   ]
  },
  {
   "cell_type": "code",
   "execution_count": null,
   "metadata": {
    "scrolled": false
   },
   "outputs": [],
   "source": [
    "pip install IPython\n"
   ]
  },
  {
   "cell_type": "code",
   "execution_count": 2,
   "metadata": {},
   "outputs": [
    {
     "data": {
      "image/png": "[encoded data removed]",
      "text/plain": [
       "<PIL.JpegImagePlugin.JpegImageFile image mode=L size=240x200 at 0x7F0270352160>"
      ]
     },
     "metadata": {},
     "output_type": "display_data"
    }
   ],
   "source": [
    "import numpy as np\n",
    "from PIL import Image as Images\n",
    "from IPython.core.display import Image, display\n",
    "\n",
    "img = Images.open(\"Euglena__SLIDE_20Hz_volume_rate.jpg\")\n",
    "\n",
    "img.show()"
   ]
  },
  {
   "cell_type": "code",
   "execution_count": 3,
   "metadata": {},
   "outputs": [
    {
     "data": {
      "image/png": "[encoded data removed]",
      "text/plain": [
       "<PIL.Image.Image image mode=L size=240x200 at 0x7F026ED830B8>"
      ]
     },
     "metadata": {},
     "output_type": "display_data"
    }
   ],
   "source": [
    "from PIL import Image\n",
    "import numpy \n",
    "\n",
    "im = Image.open('Euglena__SLIDE_20Hz_volume_rate.tif') \n",
    "imarray = numpy.array(im) \n",
    "imarray.shape\n",
    "im.show()"
   ]
  },
  {
   "cell_type": "code",
   "execution_count": null,
   "metadata": {},
   "outputs": [],
   "source": [
    "pip install matplotlib\n"
   ]
  },
  {
   "cell_type": "code",
   "execution_count": 1,
   "metadata": {},
   "outputs": [
    {
     "name": "stdout",
     "output_type": "stream",
     "text": [
      "[[0 0 0 ... 0 0 0]\n",
      " [0 0 0 ... 0 0 0]\n",
      " [0 0 0 ... 0 0 0]\n",
      " ...\n",
      " [0 0 0 ... 0 0 0]\n",
      " [0 0 0 ... 0 0 0]\n",
      " [0 0 0 ... 0 0 0]]\n"
     ]
    }
   ],
   "source": [
    "import matplotlib.pyplot as plt\n",
    "img=plt.imread ('Euglena__SLIDE_20Hz_volume_rate.tif')\n",
    "plt.imread('Euglena__SLIDE_20Hz_volume_rate.tif')\n",
    "print(img)"
   ]
  },
  {
   "cell_type": "code",
   "execution_count": 3,
   "metadata": {
    "scrolled": true
   },
   "outputs": [
    {
     "data": {
      "text/plain": [
       "array([0, 0, 0, 0, 0, 0, 0, 0, 0, 0, 0, 0, 0, 0, 0, 0, 0, 0, 0, 0, 0, 0,\n",
       "       0, 0, 0, 0, 0, 0, 0, 0, 0, 0, 0, 0, 0, 0, 0, 0, 0, 0, 0, 0, 0, 0,\n",
       "       0, 0, 0, 0, 0, 0, 0, 0, 0, 0, 0, 0, 0, 0, 0, 0, 0, 0, 0, 0, 0, 0,\n",
       "       0, 0, 0, 0, 0, 0, 0, 0, 0, 0, 0, 0, 0, 0, 0, 0, 0, 0, 0, 0, 0, 0,\n",
       "       0, 0, 0, 0, 0, 0, 0, 0, 0, 0, 0, 0, 0, 0, 0, 0, 0, 0, 0, 0, 0, 0,\n",
       "       0, 0, 0, 0, 0, 0, 0, 0, 0, 0, 0, 0, 1, 0, 0, 0, 0, 0, 0, 0, 0, 0,\n",
       "       0, 0, 0, 0, 0, 0, 0, 0, 0, 0, 1, 1, 1, 0, 0, 0, 0, 0, 1, 0, 0, 0,\n",
       "       0, 0, 0, 0, 0, 0, 0, 0, 0, 0, 0, 0, 0, 0, 0, 0, 0, 0, 0, 0, 0, 0,\n",
       "       0, 0, 0, 0, 0, 0, 0, 0, 0, 0, 0, 0, 0, 0, 0, 0, 0, 0, 0, 0, 0, 0,\n",
       "       0, 0, 0, 0, 0, 0, 0, 0, 0, 0, 0, 0, 0, 0, 0, 0, 0, 0, 0, 0, 0, 0,\n",
       "       0, 0, 0, 0, 0, 0, 0, 0, 0, 0, 0, 0, 0, 0, 0, 0, 0, 0, 0, 0],\n",
       "      dtype=uint16)"
      ]
     },
     "execution_count": 3,
     "metadata": {},
     "output_type": "execute_result"
    }
   ],
   "source": [
    "from PIL import Image  \n",
    "import numpy as np\n",
    "\n",
    "\n",
    "\n",
    "im = Image.open ('Euglena__SLIDE_20Hz_volume_rate.tif')\n",
    "imarray = np.array(im)\n",
    "imarray[100]"
   ]
  },
  {
   "cell_type": "code",
   "execution_count": null,
   "metadata": {},
   "outputs": [],
   "source": [
    "from PIL import Image, ImageSequence  \n",
    "import numpy as np\n",
    "import matplotlib.pyplot as plt \n",
    "img = Image.open(\"Euglena__SLIDE_20Hz_volume_rate.tif\")\n",
    "\n",
    "i = 1\n",
    "  \n",
    "for fr in ImageSequence.Iterator(img):\n",
    "    if(i==71):\n",
    "        fr.show(\"Euglena__SLIDE_20Hz_volume_rate%d.tif\"%i)\n",
    "    i = i + 1"
   ]
  },
  {
   "cell_type": "code",
   "execution_count": null,
   "metadata": {
    "scrolled": true
   },
   "outputs": [],
   "source": [
    "pip install tifffile\n"
   ]
  },
  {
   "cell_type": "code",
   "execution_count": 6,
   "metadata": {},
   "outputs": [
    {
     "data": {
      "text/html": [
       "<img src=\"framex.png\" width=\"400\" height=\"400\"/>"
      ],
      "text/plain": [
       "<IPython.core.display.Image object>"
      ]
     },
     "execution_count": 6,
     "metadata": {},
     "output_type": "execute_result"
    }
   ],
   "source": [
    "from PIL import Image as Images, ImageSequence\n",
    "from tifffile import imread\n",
    "from IPython.display import Image, display\n",
    "\n",
    "path = 'Euglena__SLIDE_20Hz_volume_rate.tif'\n",
    "frame = 71\n",
    "\n",
    "\n",
    "def save_frame(path, frame):\n",
    "    im = Images.open(path)\n",
    "    i = 0\n",
    "    for f in ImageSequence.Iterator(im):\n",
    "        i+=1\n",
    "        if i == frame: \n",
    "            im.save('framex.tif')\n",
    "            break\n",
    "\n",
    "save_frame(path, frame)\n",
    "img = imread('framex.tif')\n",
    "pi = Images.fromarray(img)\n",
    "pi.save('framex.png')\n",
    "Image (url='framex.png', width=400, height=400)"
   ]
  },
  {
   "cell_type": "code",
   "execution_count": 5,
   "metadata": {},
   "outputs": [
    {
     "data": {
      "application/vnd.jupyter.widget-view+json": {
       "model_id": "b420ef30c27444ae91902e6138c5bc7a",
       "version_major": 2,
       "version_minor": 0
      },
      "text/plain": [
       "IntSlider(value=7, continuous_update=False, description='Test:', max=10)"
      ]
     },
     "metadata": {},
     "output_type": "display_data"
    }
   ],
   "source": [
    "import ipywidgets as widgets\n",
    "widgets.IntSlider(value=7,\n",
    "    min=0,\n",
    "    max=10,\n",
    "    step=1,\n",
    "    description='Test:',\n",
    "    disabled=False,\n",
    "    continuous_update=False,\n",
    "    orientation='horizontal',\n",
    "    readout=True,\n",
    "    readout_format='d')"
   ]
  },
  {
   "cell_type": "code",
   "execution_count": null,
   "metadata": {
    "scrolled": true
   },
   "outputs": [],
   "source": [
    "pip install cardinality"
   ]
  },
  {
   "cell_type": "code",
   "execution_count": null,
   "metadata": {},
   "outputs": [],
   "source": [
    "pip install Pillow"
   ]
  },
  {
   "cell_type": "code",
   "execution_count": 4,
   "metadata": {},
   "outputs": [
    {
     "data": {
      "application/vnd.jupyter.widget-view+json": {
       "model_id": "63d1e51ac2db464b9f7b334564ecf276",
       "version_major": 2,
       "version_minor": 0
      },
      "text/plain": [
       "interactive(children=(IntSlider(value=0, description='x', max=20000), Output()), _dom_classes=('widget-interac…"
      ]
     },
     "metadata": {},
     "output_type": "display_data"
    },
    {
     "data": {
      "text/plain": [
       "<function __main__.show_frame(x)>"
      ]
     },
     "execution_count": 4,
     "metadata": {},
     "output_type": "execute_result"
    }
   ],
   "source": [
    "from PIL import Image as Images, ImageSequence \n",
    "from tifffile import imread\n",
    "from IPython.display import Image, display\n",
    "from ipywidgets import interact\n",
    "import ipywidgets as widgets\n",
    "import cardinality\n",
    "\n",
    "path = 'Euglena__SLIDE_20Hz_volume_rate.tif'\n",
    "\n",
    "def get_framecount(path):\n",
    "    im = Images.open(path)\n",
    "    return cardinality.count(ImageSequence.Iterator(im))\n",
    "\n",
    "def save_frame(path, frame):\n",
    "    im = Images.open(path)\n",
    "    i = 0\n",
    "    for f in ImageSequence.Iterator(im):\n",
    "        i+=1\n",
    "        if i == frame: \n",
    "            im.save('framex.tif')\n",
    "            break\n",
    "            \n",
    "def show_frame(x): \n",
    "    save_frame(path, x)\n",
    "    img = imread('framex.tif')\n",
    "    pi = Images.fromarray(img)\n",
    "    pi.save('framex.png')\n",
    "    display(Image(url='framex.png', width=400, height=400))\n",
    "\n",
    "interact(show_frame, x=widgets.IntSlider(min=0, max=get_framecount(path), step=1, value=0))"
   ]
  },
  {
   "cell_type": "code",
   "execution_count": null,
   "metadata": {
    "scrolled": false
   },
   "outputs": [],
   "source": [
    "pip install bioformats"
   ]
  },
  {
   "cell_type": "code",
   "execution_count": 29,
   "metadata": {},
   "outputs": [
    {
     "data": {
      "application/vnd.jupyter.widget-view+json": {
       "model_id": "6597518a9a984ee18437b95d46c84100",
       "version_major": 2,
       "version_minor": 0
      },
      "text/plain": [
       "interactive(children=(IntSlider(value=0, description='t'), IntSlider(value=0, description='z', max=200), Outpu…"
      ]
     },
     "metadata": {},
     "output_type": "display_data"
    }
   ],
   "source": [
    "import javabridge\n",
    "import bioformats\n",
    "import numpy as np\n",
    "from PIL import Image as im\n",
    "from ipywidgets import interact, interactive\n",
    "import ipywidgets as widgets\n",
    "from IPython.display import display \n",
    "\n",
    "#pfad zum tiff image, das angezeigt werden soll\n",
    "path_to_data = 'Euglena__SLIDE_20Hz_volume_rate.tif'\n",
    "#starten der java vm\n",
    "javabridge.start_vm(class_path=bioformats.JARS)\n",
    "\n",
    "#funktion um das maximum der z-ebene und der zeitebene erhalten, um die silder entspechend zu skalieren\n",
    "def get_sildersize():\n",
    "    #metadaten des tiff images als xmlstring\n",
    "    xml_string = bioformats.get_omexml_metadata(path_to_data)\n",
    "    #metadaten als bioformats ome\n",
    "    ome = bioformats.OMEXML(xml_string)\n",
    "    #auswahl des ersten / einzigen bildes\n",
    "    iome = ome.image(0)\n",
    "    #rueckgabe der groesse der t-ebene und der z-ebene\n",
    "    return iome.Pixels.get_SizeT(), iome.Pixels.get_SizeZ()\n",
    "\n",
    "#speichern der slidergroessen in variablen\n",
    "t_slider_max, z_slider_max = get_sildersize()\n",
    "#anbinden eines interacts an die unterliegende Funktion, welches aus 2 slidern besteht \n",
    "#Funktion zeigt nach übergebenen t und z parametern das jeweilige bild an\n",
    "@interact(t=widgets.IntSlider(min=0, max=t_slider_max, step=1, value=0, description='t'), \n",
    "          z=widgets.IntSlider(min=0, max=z_slider_max, step=1, value=0, description='z'))\n",
    "def show_frame(t, z):\n",
    "    #initialisierung des bioformat readers mit dem tif image\n",
    "    reader = bioformats.ImageReader(path_to_data)\n",
    "    #auslesen des korrekten frames in np-array\n",
    "    raw_data = reader.read(z=z, t=t, series=0, rescale=False) \n",
    "    #konvertierung des np-arrays in pil image\n",
    "    img = im.fromarray(raw_data)\n",
    "    #konvertierung des images in eine anzeigbare version\n",
    "    converted_img = img.convert('RGB')\n",
    "    #anzeige des korrekten frames\n",
    "    display(converted_img)"
   ]
  },
  {
   "cell_type": "code",
   "execution_count": 57,
   "metadata": {},
   "outputs": [
    {
     "data": {
      "application/vnd.jupyter.widget-view+json": {
       "model_id": "05fe7ac00fca4a6492de8ec46e41312c",
       "version_major": 2,
       "version_minor": 0
      },
      "text/plain": [
       "interactive(children=(Dropdown(description='Zeit...t', options=('0', '1', '2', '3', '4', '5', '6', '7', '8', '…"
      ]
     },
     "metadata": {},
     "output_type": "display_data"
    }
   ],
   "source": [
    "import javabridge\n",
    "import bioformats\n",
    "import matplotlib as plt\n",
    "import numpy as np\n",
    "from PIL import Image as im\n",
    "from ipywidgets import interact, interactive\n",
    "import ipywidgets as widgets\n",
    "from IPython.display import display \n",
    "\n",
    "\n",
    "path_to_data = 'Euglena__SLIDE_20Hz_volume_rate.tif'\n",
    "\n",
    "javabridge.start_vm(class_path=bioformats.JARS)\n",
    "\n",
    "\n",
    "@interact(t=widgets.Dropdown(\n",
    "    options=['0', '1', '2', '3', \"4\", \"5\", \"6\", \"7\", \"8\", \"9\", \"10\", \"11\", \"12\", \"13\", \"14\", \"15\", \"16\", \"17\", \"18\", \"19\", \"20\", \"21\", \"22\", \"23\", \"24\", \"25\", \"26\", \"27\", \"28\", \"29\", \"30\", \"31\", \"32\", \"33\", \"34\", \"35\", \"36\",\"37\", \"38\", \"39\", \"40\", \"41\", \"42\", \"43\", \"44\", \"45\", \"46\", \"47\", \"48\", \"49\", \"50\", \"51\", \"52\", \"53\", \"54\", \"55\", \"56\", \"57\", \"58\", \"59\", \"60\", \"61\", \"62\", \"63\", \"64\", \"65\", \"66\", \"67\", \"68\", \"69\", \"70\", \"71\", \"72\", \"73\", \"74\", \"75\", \"76\", \"77\", \"78\", \"79\", \"80\", \"81\", \"82\", \"83\", \"84\", \"85\", \"86\", \"87\", \"88\", \"89\", \"90\", \"91\", \"92\", \"93\", \"94\", \"95\", \"96\", \"97\", \"98\", \"99\"],\n",
    "    value='0',\n",
    "    description='Zeit...t',\n",
    "    disabled=False,), \n",
    "          z=widgets.Dropdown(\n",
    "    options=['0', '1', '2', '3', \"4\", \"5\", \"6\", \"7\", \"8\", \"9\", \"10\", \"11\", \"12\", \"13\", \"14\", \"15\", \"16\", \"17\", \"18\", \"19\", \"20\", \"21\", \"22\", \"23\", \"24\", \"25\", \"26\", \"27\", \"28\", \"29\", \"30\", \"31\", \"32\", \"33\", \"34\", \"35\", \"36\",\"37\", \"38\", \"39\", \"40\", \"41\", \"42\", \"43\", \"44\", \"45\", \"46\", \"47\", \"48\", \"49\", \"50\", \"51\", \"52\", \"53\", \"54\", \"55\", \"56\", \"57\", \"58\", \"59\", \"60\", \"61\", \"62\", \"63\", \"64\", \"65\", \"66\", \"67\", \"68\", \"69\", \"70\", \"71\", \"72\", \"73\", \"74\", \"75\", \"76\", \"77\", \"78\", \"79\", \"80\", \"81\", \"82\", \"83\", \"84\", \"85\", \"86\", \"87\", \"88\", \"89\", \"90\", \"91\", \"92\", \"93\", \"94\", \"95\", \"96\", \"97\", \"98\", \"99\", \"100\", \"101\", \"102\", \"103\", \"104\", \"105\", \"106\", \"107\", \"108\", \"109\", \"110\", \"111\", \"112\", \"113\", \"114\", \"115\", \"116\", \"117\", \"118\", \"119\", \"120\", \"121\", \"122\", \"123\", \"124\", \"125\", \"126\", \"127\", \"128\", \"129\", \"130\", \"131\", \"132\", \"133\", \"134\", \"135\", \"136\", \"137\", \"138\", \"139\", \"140\", \"141\", \"142\", \"143\", \"144\", \"145\", \"146\", \"147\", \"148\", \"149\", \"150\", \"151\", \"152\", \"153\", \"154\", \"155\", \"156\", \"157\", \"158\", \"159\", \"160\", \"161\", \"162\", \"163\", \"164\", \"165\", \"166\", \"167\", \"168\", \"169\", \"170\", \"171\", \"172\", \"173\", \"174\", \"175\", \"176\", \"177\", \"178\", \"179\", \"180\", \"181\", \"182\", \"183\", \"184\", \"185\", \"186\", \"187\", \"188\", \"189\", \"190\", \"191\", \"192\", \"193\", \"194\", \"195\", \"196\", \"197\", \"198\", \"199\"],\n",
    "    value='0',\n",
    "    description='z-Ebene',\n",
    "    disabled=False,))\n",
    "def show_frame(t,z):\n",
    "   \n",
    "    reader = bioformats.ImageReader(path_to_data)\n",
    "    \n",
    "    raw_data = reader.read(z=z, t=t, series=0, rescale=False) \n",
    "   \n",
    "    img = im.fromarray(raw_data)\n",
    "    \n",
    "    converted_img = img.convert('RGB')\n",
    "  \n",
    "    display(converted_img)"
   ]
  },
  {
   "cell_type": "code",
   "execution_count": 8,
   "metadata": {
    "scrolled": false
   },
   "outputs": [
    {
     "name": "stdout",
     "output_type": "stream",
     "text": [
      "Collecting cellprofiler-core\n",
      "  Downloading cellprofiler_core-4.1.3-py3-none-any.whl (552 kB)\n",
      "\u001b[K     |████████████████████████████████| 552 kB 571 kB/s eta 0:00:01\n",
      "\u001b[?25hCollecting h5py==2.10.0\n",
      "  Downloading h5py-2.10.0-cp38-cp38-manylinux1_x86_64.whl (2.9 MB)\n",
      "\u001b[K     |████████████████████████████████| 2.9 MB 1.3 MB/s eta 0:00:01\n",
      "\u001b[?25hRequirement already satisfied: python-bioformats==4.0.4 in /home/renee/.local/lib/python3.8/site-packages (from cellprofiler-core) (4.0.4)\n",
      "Collecting scipy>=1.4.1\n",
      "  Downloading scipy-1.6.3-cp38-cp38-manylinux1_x86_64.whl (27.2 MB)\n",
      "\u001b[K     |████████████████████████████████| 27.2 MB 21 kB/s  eta 0:00:01    |█████                           | 4.2 MB 2.3 MB/s eta 0:00:11     |█████████▏                      | 7.8 MB 1.6 MB/s eta 0:00:12     |████████████████████████████▉   | 24.5 MB 2.1 MB/s eta 0:00:02\n",
      "\u001b[?25hRequirement already satisfied: numpy>=1.18.2 in /home/renee/.local/lib/python3.8/site-packages (from cellprofiler-core) (1.20.2)\n",
      "Collecting docutils==0.15.2\n",
      "  Downloading docutils-0.15.2-py3-none-any.whl (547 kB)\n",
      "\u001b[K     |████████████████████████████████| 547 kB 2.0 MB/s eta 0:00:01\n",
      "\u001b[?25hRequirement already satisfied: matplotlib>=3.1.3 in /home/renee/.local/lib/python3.8/site-packages (from cellprofiler-core) (3.4.1)\n",
      "Collecting scikit-image>=0.16.2\n",
      "  Downloading scikit_image-0.18.1-cp38-cp38-manylinux1_x86_64.whl (30.2 MB)\n",
      "\u001b[K     |████████████████████████████████| 30.2 MB 502 kB/s eta 0:00:01    |█████▍                          | 5.1 MB 2.2 MB/s eta 0:00:12\n",
      "\u001b[?25hCollecting pyzmq==18.0.1\n",
      "  Downloading pyzmq-18.0.1.tar.gz (1.2 MB)\n",
      "\u001b[K     |████████████████████████████████| 1.2 MB 895 kB/s eta 0:00:01\n",
      "\u001b[?25hRequirement already satisfied: python-javabridge==4.0.3 in /home/renee/.local/lib/python3.8/site-packages (from cellprofiler-core) (4.0.3)\n",
      "Requirement already satisfied: boto3>=1.12.28 in /home/renee/.local/lib/python3.8/site-packages (from cellprofiler-core) (1.17.50)\n",
      "Collecting centrosome==1.2.0\n",
      "  Downloading centrosome-1.2.0.tar.gz (777 kB)\n",
      "\u001b[K     |████████████████████████████████| 777 kB 796 kB/s eta 0:00:01\n",
      "\u001b[?25h  Installing build dependencies ... \u001b[?25ldone\n",
      "\u001b[?25h  Getting requirements to build wheel ... \u001b[?25ldone\n",
      "\u001b[?25h  Installing backend dependencies ... \u001b[?25ldone\n",
      "\u001b[?25h    Preparing wheel metadata ... \u001b[?25ldone\n",
      "\u001b[?25hCollecting psutil>=5.7.0\n",
      "  Downloading psutil-5.8.0-cp38-cp38-manylinux2010_x86_64.whl (296 kB)\n",
      "\u001b[K     |████████████████████████████████| 296 kB 1.1 MB/s eta 0:00:01\n",
      "\u001b[?25hCollecting prokaryote==2.4.2\n",
      "  Downloading prokaryote-2.4.2.tar.gz (54.8 MB)\n",
      "\u001b[K     |████████████████████████████████| 54.8 MB 32 kB/s  eta 0:00:01     |██████████▍                     | 17.7 MB 2.4 MB/s eta 0:00:16\n",
      "\u001b[?25hRequirement already satisfied: six in /usr/lib/python3/dist-packages (from h5py==2.10.0->cellprofiler-core) (1.14.0)\n",
      "Requirement already satisfied: future>=0.18.2 in /usr/lib/python3/dist-packages (from python-bioformats==4.0.4->cellprofiler-core) (0.18.2)\n",
      "Requirement already satisfied: kiwisolver>=1.0.1 in /home/renee/.local/lib/python3.8/site-packages (from matplotlib>=3.1.3->cellprofiler-core) (1.3.1)\n",
      "Requirement already satisfied: python-dateutil>=2.7 in /usr/lib/python3/dist-packages (from matplotlib>=3.1.3->cellprofiler-core) (2.7.3)\n",
      "Requirement already satisfied: pyparsing>=2.2.1 in /home/renee/.local/lib/python3.8/site-packages (from matplotlib>=3.1.3->cellprofiler-core) (2.4.7)\n",
      "Requirement already satisfied: cycler>=0.10 in /home/renee/.local/lib/python3.8/site-packages (from matplotlib>=3.1.3->cellprofiler-core) (0.10.0)\n",
      "Requirement already satisfied: pillow>=6.2.0 in /usr/lib/python3/dist-packages (from matplotlib>=3.1.3->cellprofiler-core) (7.0.0)\n",
      "Collecting imageio>=2.3.0\n",
      "  Downloading imageio-2.9.0-py3-none-any.whl (3.3 MB)\n",
      "\u001b[K     |████████████████████████████████| 3.3 MB 2.5 MB/s eta 0:00:01\n",
      "\u001b[?25hCollecting PyWavelets>=1.1.1\n",
      "  Downloading PyWavelets-1.1.1-cp38-cp38-manylinux1_x86_64.whl (4.4 MB)\n",
      "\u001b[K     |████████████████████████████████| 4.4 MB 2.8 MB/s eta 0:00:01\n",
      "\u001b[?25hRequirement already satisfied: tifffile>=2019.7.26 in /home/renee/.local/lib/python3.8/site-packages (from scikit-image>=0.16.2->cellprofiler-core) (2021.4.8)\n",
      "Collecting networkx>=2.0\n",
      "  Downloading networkx-2.5.1-py3-none-any.whl (1.6 MB)\n",
      "\u001b[K     |████████████████████████████████| 1.6 MB 1.6 MB/s eta 0:00:01\n",
      "\u001b[?25hRequirement already satisfied: botocore<1.21.0,>=1.20.50 in /home/renee/.local/lib/python3.8/site-packages (from boto3>=1.12.28->cellprofiler-core) (1.20.50)\n",
      "Requirement already satisfied: s3transfer<0.4.0,>=0.3.0 in /home/renee/.local/lib/python3.8/site-packages (from boto3>=1.12.28->cellprofiler-core) (0.3.6)\n",
      "Requirement already satisfied: jmespath<1.0.0,>=0.7.1 in /home/renee/.local/lib/python3.8/site-packages (from boto3>=1.12.28->cellprofiler-core) (0.10.0)\n",
      "Requirement already satisfied: deprecation in /home/renee/.local/lib/python3.8/site-packages (from centrosome==1.2.0->cellprofiler-core) (2.1.0)\n",
      "Collecting decorator<5,>=4.3\n",
      "  Downloading decorator-4.4.2-py2.py3-none-any.whl (9.2 kB)\n",
      "Requirement already satisfied: urllib3<1.27,>=1.25.4 in /usr/lib/python3/dist-packages (from botocore<1.21.0,>=1.20.50->boto3>=1.12.28->cellprofiler-core) (1.25.8)\n",
      "Requirement already satisfied: packaging in /home/renee/.local/lib/python3.8/site-packages (from deprecation->centrosome==1.2.0->cellprofiler-core) (20.9)\n",
      "Building wheels for collected packages: pyzmq, centrosome, prokaryote\n",
      "  Building wheel for pyzmq (setup.py) ... \u001b[?25ldone\n",
      "\u001b[?25h  Created wheel for pyzmq: filename=pyzmq-18.0.1-cp38-cp38-linux_x86_64.whl size=6396063 sha256=dc0f9324076173624d2f02fc16da7d44d085b2824b5af7182aaa5a9b32af02e8\n",
      "  Stored in directory: /home/renee/.cache/pip/wheels/46/2a/3d/1777b4bfb437c8a3de756536edaf694ae5ff5efa37a59aa574\n",
      "  Building wheel for centrosome (PEP 517) ... \u001b[?25ldone\n",
      "\u001b[?25h  Created wheel for centrosome: filename=centrosome-1.2.0-cp38-cp38-linux_x86_64.whl size=1602936 sha256=3f2cdfefdfd3eca69d4eae982f01a4638adcf6e9845718570719de0d1ec365c8\n",
      "  Stored in directory: /home/renee/.cache/pip/wheels/1d/a8/20/140601b1e07e54cb7c61cb79439710a92cabae7eb64e05c119\n",
      "  Building wheel for prokaryote (setup.py) ... \u001b[?25ldone\n",
      "\u001b[?25h  Created wheel for prokaryote: filename=prokaryote-2.4.2-py2.py3-none-any.whl size=54817407 sha256=9128e26b16f4e32cf01f354e00b72e975660693556b42139665afc0831be8376\n",
      "  Stored in directory: /home/renee/.cache/pip/wheels/b0/8b/5b/eceac94becc202a6238368065ef57f2da326ac30cb06648d65\n",
      "Successfully built pyzmq centrosome prokaryote\n",
      "\u001b[31mERROR: centrosome 1.2.0 has requirement matplotlib==3.1.3, but you'll have matplotlib 3.4.1 which is incompatible.\u001b[0m\n",
      "\u001b[31mERROR: centrosome 1.2.0 has requirement pillow>=7.1.0, but you'll have pillow 7.0.0 which is incompatible.\u001b[0m\n",
      "Installing collected packages: h5py, scipy, docutils, imageio, PyWavelets, decorator, networkx, scikit-image, pyzmq, centrosome, psutil, prokaryote, cellprofiler-core\n",
      "  Attempting uninstall: decorator\n",
      "    Found existing installation: decorator 5.0.6\n",
      "    Uninstalling decorator-5.0.6:\n",
      "      Successfully uninstalled decorator-5.0.6\n",
      "  Attempting uninstall: pyzmq\n",
      "    Found existing installation: pyzmq 22.0.3\n",
      "    Uninstalling pyzmq-22.0.3:\n",
      "      Successfully uninstalled pyzmq-22.0.3\n",
      "Successfully installed PyWavelets-1.1.1 cellprofiler-core-4.1.3 centrosome-1.2.0 decorator-4.4.2 docutils-0.15.2 h5py-2.10.0 imageio-2.9.0 networkx-2.5.1 prokaryote-2.4.2 psutil-5.8.0 pyzmq-18.0.1 scikit-image-0.18.1 scipy-1.6.3\n",
      "Note: you may need to restart the kernel to use updated packages.\n"
     ]
    }
   ],
   "source": [
    "pip install cellprofiler-core"
   ]
  },
  {
   "cell_type": "code",
   "execution_count": 9,
   "metadata": {},
   "outputs": [
    {
     "name": "stdout",
     "output_type": "stream",
     "text": [
      "Collecting matplotlib==3.1.3\n",
      "  Downloading matplotlib-3.1.3-cp38-cp38-manylinux1_x86_64.whl (13.1 MB)\n",
      "\u001b[K     |████████████████████████████████| 13.1 MB 50 kB/s  eta 0:00:01\n",
      "\u001b[?25hRequirement already satisfied: kiwisolver>=1.0.1 in /home/renee/.local/lib/python3.8/site-packages (from matplotlib==3.1.3) (1.3.1)\n",
      "Requirement already satisfied: cycler>=0.10 in /home/renee/.local/lib/python3.8/site-packages (from matplotlib==3.1.3) (0.10.0)\n",
      "Requirement already satisfied: python-dateutil>=2.1 in /usr/lib/python3/dist-packages (from matplotlib==3.1.3) (2.7.3)\n",
      "Requirement already satisfied: pyparsing!=2.0.4,!=2.1.2,!=2.1.6,>=2.0.1 in /home/renee/.local/lib/python3.8/site-packages (from matplotlib==3.1.3) (2.4.7)\n",
      "Requirement already satisfied: numpy>=1.11 in /home/renee/.local/lib/python3.8/site-packages (from matplotlib==3.1.3) (1.20.2)\n",
      "Requirement already satisfied: six in /usr/lib/python3/dist-packages (from cycler>=0.10->matplotlib==3.1.3) (1.14.0)\n",
      "\u001b[31mERROR: centrosome 1.2.0 has requirement pillow>=7.1.0, but you'll have pillow 7.0.0 which is incompatible.\u001b[0m\n",
      "Installing collected packages: matplotlib\n",
      "  Attempting uninstall: matplotlib\n",
      "    Found existing installation: matplotlib 3.4.1\n",
      "    Uninstalling matplotlib-3.4.1:\n",
      "      Successfully uninstalled matplotlib-3.4.1\n",
      "Successfully installed matplotlib-3.1.3\n",
      "Note: you may need to restart the kernel to use updated packages.\n"
     ]
    }
   ],
   "source": [
    "pip install matplotlib==3.1.3"
   ]
  },
  {
   "cell_type": "code",
   "execution_count": 11,
   "metadata": {},
   "outputs": [
    {
     "name": "stdout",
     "output_type": "stream",
     "text": [
      "Collecting pillow==7.1.2\n",
      "  Downloading Pillow-7.1.2-cp38-cp38-manylinux1_x86_64.whl (2.1 MB)\n",
      "\u001b[K     |████████████████████████████████| 2.1 MB 1.2 MB/s eta 0:00:01\n",
      "\u001b[?25hInstalling collected packages: pillow\n",
      "  Attempting uninstall: pillow\n",
      "    Found existing installation: Pillow 7.1.0\n",
      "    Uninstalling Pillow-7.1.0:\n",
      "      Successfully uninstalled Pillow-7.1.0\n",
      "Successfully installed pillow-7.1.2\n",
      "Note: you may need to restart the kernel to use updated packages.\n"
     ]
    }
   ],
   "source": [
    "pip install pillow==7.1.2"
   ]
  },
  {
   "cell_type": "code",
   "execution_count": 12,
   "metadata": {},
   "outputs": [],
   "source": [
    "from omero.gateway import BlitzGateway\n",
    "from getpass import getpass"
   ]
  },
  {
   "cell_type": "code",
   "execution_count": 71,
   "metadata": {},
   "outputs": [
    {
     "name": "stdout",
     "output_type": "stream",
     "text": [
      "Username: ReneeBusch\n",
      "OMERO Password: ········\n"
     ]
    }
   ],
   "source": [
    "\n",
    "\n",
    "HOST = 'demo.openmicroscopy.org'\n",
    "PORT = 4064\n",
    "conn = BlitzGateway(input(\"Username: \"),\n",
    "                    getpass(\"OMERO Password: \"),\n",
    "                    host=HOST, port=PORT)\n",
    "conn.connect()\n",
    "\n",
    "# Using secure connection.\n",
    "# By default, once we have logged in, data transfer is not encrypted\n",
    "# (faster)\n",
    "# To use a secured connection, call setSecure(True):\n",
    "conn.setSecure(True)\n",
    "\n"
   ]
  },
  {
   "cell_type": "code",
   "execution_count": 10,
   "metadata": {},
   "outputs": [],
   "source": [
    "\n",
    "\n",
    "def print_obj(obj, indent=0):\n",
    "    \"\"\"\n",
    "    Helper method to display info about OMERO objects.\n",
    "    Not all objects will have a \"name\" or owner field.\n",
    "    \"\"\"\n",
    "    print(\"\"\"%s%s:%s  Name:\"%s\" (owner=%s)\"\"\" % (\n",
    "        \" \" * indent,\n",
    "        obj.OMERO_CLASS,\n",
    "        obj.getId(),\n",
    "        obj.getName(),\n",
    "        obj.getOwnerOmeName()))\n",
    "\n"
   ]
  },
  {
   "cell_type": "code",
   "execution_count": 11,
   "metadata": {},
   "outputs": [
    {
     "name": "stdout",
     "output_type": "stream",
     "text": [
      "Project:2776  Name:\"Bachelorarbeit\" (owner=ReneeBusch)\n",
      " Dataset:5722  Name:\"Alge\" (owner=ReneeBusch)\n",
      "  Image:171058  Name:\"Euglena__SLIDE_20Hz_volume_rate.jpg\" (owner=ReneeBusch)\n",
      "  Image:171057  Name:\"Euglena__SLIDE_20Hz_volume_rate.tif\" (owner=ReneeBusch)\n"
     ]
    }
   ],
   "source": [
    "my_exp_id = conn.getUser().getId()\n",
    "default_group_id = conn.getEventContext().groupId\n",
    "for project in conn.getObjects(\"Project\",\n",
    "                               opts={'owner': my_exp_id,\n",
    "                                     'group': default_group_id,\n",
    "                                     'order_by': 'lower(obj.name)',\n",
    "                                     'limit': 5, 'offset': 0}):\n",
    "    print_obj(project)\n",
    "    # We can get Datasets with listChildren, since we have the Project already.\n",
    "    # Or conn.getObjects(\"Dataset\", opts={'project', id}) if we have Project ID\n",
    "    for dataset in project.listChildren():\n",
    "        print_obj(dataset, 1)\n",
    "        for image in dataset.listChildren():\n",
    "            print_obj(image, 2)\n",
    "\n"
   ]
  },
  {
   "cell_type": "code",
   "execution_count": 63,
   "metadata": {},
   "outputs": [
    {
     "name": "stdout",
     "output_type": "stream",
     "text": [
      "Euglena__SLIDE_20Hz_volume_rate.tif \n",
      " X: 240\n",
      " Y: 200\n",
      " Z: 200\n",
      " C: 1\n",
      " T: 100\n",
      "Channel: 0\n",
      "Color: (128, 128, 128)\n",
      "Lookup table: None\n",
      "Is reverse intensity? False\n"
     ]
    }
   ],
   "source": [
    "image = conn.getObject(\"Image\", 171057)\n",
    "print(image.getName(), image.getDescription())\n",
    "\n",
    "print(\" X:\", image.getSizeX())\n",
    "print(\" Y:\", image.getSizeY())\n",
    "print(\" Z:\", image.getSizeZ())\n",
    "print(\" C:\", image.getSizeC())\n",
    "print(\" T:\", image.getSizeT())\n",
    "# List Channels (loads the Rendering settings to get channel colors)\n",
    "for channel in image.getChannels():\n",
    "    print('Channel:', channel.getLabel())\n",
    "    print('Color:', channel.getColor().getRGB())\n",
    "    print('Lookup table:', channel.getLut())\n",
    "    print('Is reverse intensity?', channel.isReverseIntensity())\n",
    "\n",
    "# render the first timepoint, mid Z section\n",
    "z = image.getSizeZ() / 2\n",
    "t = 0\n",
    "rendered_image = image.renderImage(z, t)\n",
    "#rendered_image.show()               # popup (use for debug only)\n",
    "# rendered_image.save(\"test.jpg\")     # save in the current folder\n"
   ]
  },
  {
   "cell_type": "code",
   "execution_count": 72,
   "metadata": {},
   "outputs": [
    {
     "data": {
      "text/plain": [
       "<_ImageWrapper id=171058>"
      ]
     },
     "metadata": {},
     "output_type": "display_data"
    }
   ],
   "source": [
    "import numpy as np\n",
    "from PIL import Image as Images\n",
    "from IPython.core.display import Image, display\n",
    "\n",
    "image = conn.getObject(\"Image\", 171058)\n",
    "\n",
    "display(image)"
   ]
  },
  {
   "cell_type": "code",
   "execution_count": 61,
   "metadata": {
    "scrolled": false
   },
   "outputs": [
    {
     "data": {
      "application/vnd.jupyter.widget-view+json": {
       "model_id": "fa087b1ac3874a47aad55b12ed6cd43c",
       "version_major": 2,
       "version_minor": 0
      },
      "text/plain": [
       "interactive(children=(Dropdown(description='Zeit...t', options=('0', '1', '2', '3', '4', '5', '6', '7', '8', '…"
      ]
     },
     "metadata": {},
     "output_type": "display_data"
    }
   ],
   "source": [
    "import javabridge\n",
    "import bioformats\n",
    "import matplotlib as plt\n",
    "import numpy as np\n",
    "from PIL import Image as im\n",
    "from ipywidgets import interact, interactive\n",
    "import ipywidgets as widgets\n",
    "from IPython.display import display \n",
    "\n",
    "\n",
    "path_to_data = str(conn.getObject(\"Image\", 171057))\n",
    "\n",
    "javabridge.start_vm(class_path=bioformats.JARS)\n",
    "\n",
    "\n",
    "@interact(t=widgets.Dropdown(\n",
    "    options=['0', '1', '2', '3', \"4\", \"5\", \"6\", \"7\", \"8\", \"9\", \"10\", \"11\", \"12\", \"13\", \"14\", \"15\", \"16\", \"17\", \"18\", \"19\", \"20\", \"21\", \"22\", \"23\", \"24\", \"25\", \"26\", \"27\", \"28\", \"29\", \"30\", \"31\", \"32\", \"33\", \"34\", \"35\", \"36\",\"37\", \"38\", \"39\", \"40\", \"41\", \"42\", \"43\", \"44\", \"45\", \"46\", \"47\", \"48\", \"49\", \"50\", \"51\", \"52\", \"53\", \"54\", \"55\", \"56\", \"57\", \"58\", \"59\", \"60\", \"61\", \"62\", \"63\", \"64\", \"65\", \"66\", \"67\", \"68\", \"69\", \"70\", \"71\", \"72\", \"73\", \"74\", \"75\", \"76\", \"77\", \"78\", \"79\", \"80\", \"81\", \"82\", \"83\", \"84\", \"85\", \"86\", \"87\", \"88\", \"89\", \"90\", \"91\", \"92\", \"93\", \"94\", \"95\", \"96\", \"97\", \"98\", \"99\"],\n",
    "    value='0',\n",
    "    description='Zeit...t',\n",
    "    disabled=False,), \n",
    "          z=widgets.Dropdown(\n",
    "    options=['0', '1', '2', '3', \"4\", \"5\", \"6\", \"7\", \"8\", \"9\", \"10\", \"11\", \"12\", \"13\", \"14\", \"15\", \"16\", \"17\", \"18\", \"19\", \"20\", \"21\", \"22\", \"23\", \"24\", \"25\", \"26\", \"27\", \"28\", \"29\", \"30\", \"31\", \"32\", \"33\", \"34\", \"35\", \"36\",\"37\", \"38\", \"39\", \"40\", \"41\", \"42\", \"43\", \"44\", \"45\", \"46\", \"47\", \"48\", \"49\", \"50\", \"51\", \"52\", \"53\", \"54\", \"55\", \"56\", \"57\", \"58\", \"59\", \"60\", \"61\", \"62\", \"63\", \"64\", \"65\", \"66\", \"67\", \"68\", \"69\", \"70\", \"71\", \"72\", \"73\", \"74\", \"75\", \"76\", \"77\", \"78\", \"79\", \"80\", \"81\", \"82\", \"83\", \"84\", \"85\", \"86\", \"87\", \"88\", \"89\", \"90\", \"91\", \"92\", \"93\", \"94\", \"95\", \"96\", \"97\", \"98\", \"99\", \"100\", \"101\", \"102\", \"103\", \"104\", \"105\", \"106\", \"107\", \"108\", \"109\", \"110\", \"111\", \"112\", \"113\", \"114\", \"115\", \"116\", \"117\", \"118\", \"119\", \"120\", \"121\", \"122\", \"123\", \"124\", \"125\", \"126\", \"127\", \"128\", \"129\", \"130\", \"131\", \"132\", \"133\", \"134\", \"135\", \"136\", \"137\", \"138\", \"139\", \"140\", \"141\", \"142\", \"143\", \"144\", \"145\", \"146\", \"147\", \"148\", \"149\", \"150\", \"151\", \"152\", \"153\", \"154\", \"155\", \"156\", \"157\", \"158\", \"159\", \"160\", \"161\", \"162\", \"163\", \"164\", \"165\", \"166\", \"167\", \"168\", \"169\", \"170\", \"171\", \"172\", \"173\", \"174\", \"175\", \"176\", \"177\", \"178\", \"179\", \"180\", \"181\", \"182\", \"183\", \"184\", \"185\", \"186\", \"187\", \"188\", \"189\", \"190\", \"191\", \"192\", \"193\", \"194\", \"195\", \"196\", \"197\", \"198\", \"199\"],\n",
    "    value='0',\n",
    "    description='z-Ebene',\n",
    "    disabled=False,))\n",
    "def show_frame(t,z):\n",
    "   \n",
    "    reader = bioformats.ImageReader(path_to_data)\n",
    "    \n",
    "    raw_data = reader.read(z=z, t=t, series=0, rescale=False) \n",
    "   \n",
    "    img = im.fromarray(raw_data)\n",
    "    \n",
    "    converted_img = img.convert('RGB')\n",
    "  \n",
    "    display(converted_img)"
   ]
  },
  {
   "cell_type": "code",
   "execution_count": null,
   "metadata": {},
   "outputs": [],
   "source": []
  }
 ],
 "metadata": {
  "kernelspec": {
   "display_name": "Python 3",
   "language": "python",
   "name": "python3"
  },
  "language_info": {
   "codemirror_mode": {
    "name": "ipython",
    "version": 3
   },
   "file_extension": ".py",
   "mimetype": "text/x-python",
   "name": "python",
   "nbconvert_exporter": "python",
   "pygments_lexer": "ipython3",
   "version": "3.8.5"
  }
 },
 "nbformat": 4,
 "nbformat_minor": 2
}
